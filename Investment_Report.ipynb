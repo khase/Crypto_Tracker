{
 "cells": [
  {
   "cell_type": "markdown",
   "metadata": {},
   "source": [
    "# Investment Report\n",
    "#### Done\n",
    "* Use configuration file for confidential data (E-Mail, Google Sheet, etc.) **DONE**\n",
    "* Write for-loop in E-Mail body for measures of single cryptocurrencies **DONE**\n",
    "* Format decimals in pie-chart **DONE**\n",
    "* Make currency and measure (Close, Max, Min, Open) flexible **DONE**\n",
    "* Sort list 'Asset' alphabeticially **DONE**\n",
    "* Write README and define format of Google Sheet input, G-Mail set-up & file paths **DONE**\n",
    "* Make start date flexible (read from Google sheet, start one month prior on 1st) **DONE**\n",
    "* Create second pie chart showing the allocation of purchase price **DONE**\n",
    "* Create a table showing details by asset & formatted **DONE**\n",
    "* Text details eliminated **DONE**\n",
    "* Change E-Mail to 'more-secure apps' **DONE**\n",
    "\n",
    "#### To Do\n",
    "* Set up data import for stocks"
   ]
  },
  {
   "cell_type": "code",
   "execution_count": 26,
   "metadata": {},
   "outputs": [
    {
     "name": "stdout",
     "output_type": "stream",
     "text": [
      "Setting up the Environment\n"
     ]
    }
   ],
   "source": [
    "print('Setting up the Environment')\n",
    "#Setting up my environment\n",
    "import pandas_datareader.data as web\n",
    "import pandas as pd\n",
    "import numpy as np\n",
    "import datetime as dt\n",
    "\n",
    "import plotly.express as px\n",
    "from plotly import __version__\n",
    "from plotly.offline import download_plotlyjs, init_notebook_mode, plot, iplot\n",
    "import cufflinks as cf\n",
    "from plotly.subplots import make_subplots\n",
    "import plotly.graph_objects as go\n",
    "\n",
    "import gspread as gs\n",
    "\n",
    "import kaleido\n",
    "\n",
    "import yagmail\n",
    "\n",
    "import configparser\n",
    "\n",
    "import tempfile"
   ]
  },
  {
   "cell_type": "code",
   "execution_count": 27,
   "metadata": {},
   "outputs": [
    {
     "name": "stdout",
     "output_type": "stream",
     "text": [
      "Importing Configurations File\n"
     ]
    },
    {
     "data": {
      "text/plain": [
       "['Investment_Report.ini']"
      ]
     },
     "execution_count": 27,
     "metadata": {},
     "output_type": "execute_result"
    }
   ],
   "source": [
    "print('Importing Configurations File')\n",
    "#Configuration File\n",
    "config = configparser.ConfigParser()\n",
    "\n",
    "config.read('Investment_Report.ini')"
   ]
  },
  {
   "cell_type": "code",
   "execution_count": 28,
   "metadata": {},
   "outputs": [],
   "source": [
    "#DEFINITIONS\n",
    "#Google Sheet\n",
    "API_filename = config['Google_Sheet']['API_filename']\n",
    "gs_url = config['Google_Sheet']['gs_url']\n",
    "worksheet = config['Google_Sheet']['worksheet']\n",
    "\n",
    "#Historical Data\n",
    "currency = config['Price_Data']['currency']\n",
    "metric = config['Price_Data']['metric']\n",
    "\n",
    "#Plot/Attachment paths\n",
    "total_holdings_image_path = tempfile.NamedTemporaryFile(prefix='Total_Holdings_',suffix = '.png').name\n",
    "holdings_by_type_image_path = tempfile.NamedTemporaryFile(prefix='Holdings_by_Asset_',suffix = '.png').name\n",
    "allocation_of_holdings_image_path = tempfile.NamedTemporaryFile(prefix='Allocation_of_Holdings_',suffix = '.png').name\n",
    "\n",
    "#E-Mail\n",
    "send_to = config['E_Mail']['send_to']\n",
    "send_from = config['E_Mail']['send_from']\n",
    "app_password = config['E_Mail']['app_password']"
   ]
  },
  {
   "cell_type": "code",
   "execution_count": 29,
   "metadata": {},
   "outputs": [
    {
     "name": "stdout",
     "output_type": "stream",
     "text": [
      "Importing Data\n"
     ]
    }
   ],
   "source": [
    "print('Importing Data')\n",
    "#DATA IMPORT\n",
    "#GOOGLE SHEET TRANSACTIONS\n",
    "gs1 = gs.service_account(API_filename)\n",
    "gs2 = gs1.open_by_url(gs_url)\n",
    "gs3 = gs2.worksheet(worksheet)\n",
    "gs4 = gs3.get_all_records()\n",
    "\n",
    "trans_data = pd.DataFrame(gs4)\n",
    "\n",
    "#Formatting of date column\n",
    "trans_data['Date'] = pd.to_datetime(trans_data['Date'])\n",
    "trans_data = trans_data[['Date','Asset','Quantity']]\n",
    "\n",
    "#DAILY CLOSE PRICES\n",
    "#Set parameters\n",
    "if trans_data['Date'].min().month == 1:\n",
    "    start_month = 12\n",
    "    start_year = (trans_data['Date'].min().year)-1\n",
    "else:\n",
    "    start_month = (trans_data['Date'].min().month)-1\n",
    "    start_year = trans_data['Date'].min().year\n",
    "\n",
    "start = dt.datetime(start_year,start_month,1)\n",
    "end = dt.datetime.now()\n",
    "crypto = sorted(trans_data['Asset'].unique().tolist())\n",
    "colnames = []\n",
    "first = True\n",
    "\n",
    "#Import historical data\n",
    "for ticker in crypto:\n",
    "    try:\n",
    "        data = web.DataReader(f'{ticker}-{currency}', 'yahoo', start, end)\n",
    "        if first:\n",
    "            combined = data[[metric]].copy()\n",
    "            colnames.append(ticker)\n",
    "            combined.columns = colnames\n",
    "            first = False\n",
    "        else:\n",
    "            combined = combined.join(data[metric])\n",
    "            colnames.append(ticker)\n",
    "            combined.columns = colnames\n",
    "    except:\n",
    "        print (f'could not load Data for {ticker}')\n",
    "\n",
    "#Re-shape data frame\n",
    "combined.reset_index(inplace=True)\n",
    "hist_data = pd.melt(combined, id_vars='Date', var_name='Asset',value_name=metric)"
   ]
  },
  {
   "cell_type": "code",
   "execution_count": 30,
   "metadata": {},
   "outputs": [
    {
     "name": "stdout",
     "output_type": "stream",
     "text": [
      "Manipulating Data\n"
     ]
    }
   ],
   "source": [
    "print('Manipulating Data')\n",
    "#DATA MANIPULATION\n",
    "#JOIN DATA\n",
    "comb_data = pd.merge(trans_data,hist_data,how='right',on=['Date','Asset'])\n",
    "\n",
    "#Calculation of accumulative, continuous sum for each crypto type, merge into one column and calculate the continuous value\n",
    "for ticker in crypto:\n",
    "    comb_data[f'Acc_Quantity_{ticker}'] = comb_data[(comb_data['Asset'] == f'{ticker}')]['Quantity'].cumsum().ffill()\n",
    "    comb_data[f'Acc_Quantity_{ticker}'] = comb_data[f'Acc_Quantity_{ticker}'].fillna(value=0)\n",
    "\n",
    "comb_data['Acc_Quantity'] = 0\n",
    "\n",
    "for ticker in crypto:\n",
    "    comb_data['Acc_Quantity'] += comb_data[f'Acc_Quantity_{ticker}']\n",
    "\n",
    "comb_data['Pur_Value'] = comb_data['Quantity'] * comb_data[metric]\n",
    "comb_data['Pur_Value'].fillna(value=0,inplace=True)\n",
    "\n",
    "for ticker in crypto:\n",
    "    comb_data[f'Acc_Pur_Value_{ticker}'] = comb_data[(comb_data['Asset'] == f'{ticker}')]['Pur_Value'].cumsum().ffill()\n",
    "    comb_data[f'Acc_Pur_Value_{ticker}'] = comb_data[f'Acc_Pur_Value_{ticker}'].fillna(value=0)\n",
    "\n",
    "comb_data['Acc_Pur_Value'] = 0\n",
    "\n",
    "for ticker in crypto:\n",
    "    comb_data['Acc_Pur_Value'] += comb_data[f'Acc_Pur_Value_{ticker}']\n",
    "\n",
    "comb_data['Value'] = comb_data['Acc_Quantity'] * comb_data[metric]\n",
    "\n",
    "comb_data['Pur_Value'] = comb_data['Quantity'] * comb_data[metric]\n",
    "comb_data['Pur_Value'].fillna(value=0,inplace=True)\n",
    "\n",
    "comb_data = comb_data[['Date','Asset','Quantity',metric,'Acc_Quantity','Value','Pur_Value','Acc_Pur_Value']]\n",
    "\n",
    "#Total holdings\n",
    "total_holdings = comb_data[['Date','Value','Pur_Value']].groupby('Date').sum()\n",
    "total_holdings['Pur_Value'] = total_holdings['Pur_Value'].cumsum().ffill()"
   ]
  },
  {
   "cell_type": "code",
   "execution_count": 31,
   "metadata": {},
   "outputs": [
    {
     "name": "stdout",
     "output_type": "stream",
     "text": [
      "Analyzing Data\n"
     ]
    }
   ],
   "source": [
    "print('Analyzing Data')\n",
    "#DATA ANALYSIS\n",
    "#Total holdings measures\n",
    "current_value = total_holdings.sort_values('Date',ascending=False).head(8)['Value']\n",
    "max_value = round(total_holdings['Value'].max(), 2)\n",
    "max_value_date = total_holdings['Value'].idxmax().strftime('%B %#d, %Y')\n",
    "purchase_value = total_holdings.sort_values('Date',ascending=False).head(1)['Pur_Value']\n",
    "\n",
    "purchase_value_only = round(purchase_value[0],2)\n",
    "current_value_only = round(current_value[0],2)\n",
    "past_value_only = round(current_value[1],2)\n",
    "prior_week_value_only = round(current_value[7],2)\n",
    "\n",
    "change_prior_day = round((current_value_only/past_value_only*100)-100,2)\n",
    "change_prior_week = round((current_value_only/prior_week_value_only*100)-100,2)\n",
    "change_purchase = round((current_value_only/purchase_value_only*100)-100,2)\n",
    "\n",
    "total_performance = round((current_value_only-purchase_value_only),2)\n",
    "\n",
    "#Measures by cryptocurrency\n",
    "#All-time high\n",
    "max_asset_value = dict.fromkeys(crypto, 0)\n",
    "#All-time high date\n",
    "max_asset_date = dict.fromkeys(crypto, 0)\n",
    "#Current\n",
    "current_asset_value = dict.fromkeys(crypto, 0)\n",
    "#Prior week\n",
    "prior_week_asset_value = dict.fromkeys(crypto, 0)\n",
    "#Current purchase value\n",
    "current_purchase_value = dict.fromkeys(crypto, 0)\n",
    "#Quantity\n",
    "quantity = dict.fromkeys(crypto, 0)\n",
    "#Current Price\n",
    "current_price = dict.fromkeys(crypto, 0)\n",
    "for ticker in crypto:\n",
    "    asset_data = comb_data[(comb_data['Asset'] == f'{ticker}')]\n",
    "    if not asset_data.empty:\n",
    "        asset_value = max(asset_data['Value'], default=0)\n",
    "        max_asset_value[ticker] = asset_value\n",
    "        asset_value = asset_data.set_index('Date')['Value'].idxmax()\n",
    "        max_asset_date[ticker] = asset_value.strftime('%B %#d, %Y')\n",
    "        asset_value = asset_data.sort_values('Date', ascending=False).head(1)['Value']\n",
    "        current_asset_value[ticker] = asset_value.iloc[0]\n",
    "        asset_value = asset_data.sort_values('Date', ascending=False).head(8)['Value']\n",
    "        prior_week_asset_value[ticker] = asset_value.iloc[7]\n",
    "        asset_value = asset_data.sort_values('Date', ascending=False).head(1)['Acc_Pur_Value']\n",
    "        current_purchase_value[ticker] = asset_value.iloc[0]\n",
    "        asset_value = asset_data.sort_values('Date', ascending=False).head(1)['Acc_Quantity']\n",
    "        quantity[ticker] = asset_value.iloc[0]\n",
    "        asset_value = asset_data.sort_values('Date', ascending=False).head(1)['Close']\n",
    "        current_price[ticker] = asset_value.iloc[0]\n",
    "\n",
    "#Overview Table\n",
    "overview_table = pd.DataFrame({'Quantity':pd.Series(quantity),\n",
    "                                'Current Price':pd.Series(current_price),\n",
    "                                'Current Value':pd.Series(current_asset_value),\n",
    "                                'Purchase Value':pd.Series(current_purchase_value),\n",
    "                                'All-time High':pd.Series(max_asset_value),\n",
    "                                'All-time High Date':pd.Series(max_asset_date),\n",
    "                                'Prior Week Value':pd.Series(prior_week_asset_value)})\n",
    "\n",
    "overview_table['Gain/Loss'] = overview_table['Current Value'] - overview_table['Purchase Value']\n",
    "overview_table['Gain/Loss %'] = (overview_table['Current Value'] / overview_table['Purchase Value']*100)-100\n",
    "overview_table['Gain/Loss to Prior Week'] = overview_table['Current Value'] - overview_table['Prior Week Value']\n",
    "overview_table['Gain/Loss to Prior Week %'] = (overview_table['Current Value'] / overview_table['Prior Week Value']*100)-100\n",
    "\n",
    "overview_table = overview_table[['Quantity','Current Price','Current Value','Purchase Value','Gain/Loss','Gain/Loss %','Prior Week Value','Gain/Loss to Prior Week','Gain/Loss to Prior Week %','All-time High','All-time High Date']]\n",
    "\n",
    "overview_table = overview_table.round(2)"
   ]
  },
  {
   "cell_type": "code",
   "execution_count": 32,
   "metadata": {},
   "outputs": [
    {
     "name": "stdout",
     "output_type": "stream",
     "text": [
      "Creating Visualizations\n"
     ]
    }
   ],
   "source": [
    "print('Creating Visualizations')\n",
    "#DATA VISUALIZATION\n",
    "#Development total holdings\n",
    "fig = px.line(total_holdings,x=total_holdings.index,y=['Value','Pur_Value'],width=2000,height=1000)\n",
    "fig.update_layout(title_text='Development Total Holdings', title_x=0.5)\n",
    "fig.update_yaxes(title=f'Value in {currency}')\n",
    "fig.write_image(total_holdings_image_path)\n",
    "\n",
    "#Development by Type\n",
    "fig_2 = px.line(comb_data,x='Date',y='Value', color='Asset',width=2000,height=1000)\n",
    "fig_2.update_layout(title_text='Development Holdings by Type', title_x=0.5)\n",
    "fig_2.update_yaxes(title=f'Value in {currency}')\n",
    "fig_2.write_image(holdings_by_type_image_path)\n",
    "\n",
    "#Allocation of Holdings\n",
    "distinct_values = comb_data['Asset'].nunique()\n",
    "\n",
    "fig_3 = make_subplots(rows=1, cols=2 ,specs=[[{\"type\": \"pie\"}, {\"type\": \"pie\"}]])\n",
    "\n",
    "fig_3.add_trace(go.Pie(\n",
    "     values=round(comb_data.sort_values('Date', ascending=False).head(distinct_values).sort_index()['Value'],2),\n",
    "     labels=crypto,\n",
    "     domain=dict(x=[0, 0.5]),\n",
    "     name=\"Current Value\"), \n",
    "     row=1, col=1)\n",
    "\n",
    "fig_3.add_trace(go.Pie(\n",
    "     values=round(comb_data.sort_values('Date', ascending=False).head(distinct_values).sort_index()['Acc_Pur_Value'],2),\n",
    "     labels=crypto,\n",
    "     domain=dict(x=[0, 0.5]),\n",
    "     name=\"Purchase Value\"), \n",
    "     row=1, col=2)\n",
    "\n",
    "fig_3.update_traces(\n",
    "                hole=.5, \n",
    "                hoverinfo=\"label+percent+value\",\n",
    "                textposition='outside',\n",
    "                texttemplate='<b>%{label} </b><br>%{value} <br>%{percent:.2%}')\n",
    "\n",
    "\n",
    "fig_3.update_layout(\n",
    "        title_text=f'Allocation of Holdings in {currency} (Current vs. Purchase Value)', \n",
    "        title_x=0.5,\n",
    "        annotations=[dict(text=f'<b>{current_value_only}', x=0.19, y=0.5, font_size=20, showarrow=False),\n",
    "                 dict(text=f'<b>{purchase_value_only}', x=0.81, y=0.5, font_size=20, showarrow=False)], \n",
    "        showlegend=False,\n",
    "        autosize=False,\n",
    "        width=1500,\n",
    "        height=800,)\n",
    "\n",
    "fig_3.write_image(allocation_of_holdings_image_path)"
   ]
  },
  {
   "cell_type": "code",
   "execution_count": 33,
   "metadata": {},
   "outputs": [
    {
     "name": "stdout",
     "output_type": "stream",
     "text": [
      "Preparing E-Mail\n",
      "E-Mail Sent\n"
     ]
    }
   ],
   "source": [
    "print('Preparing E-Mail')\n",
    "#E-MAIL NOTIFICATION\n",
    "\n",
    "subject = 'Investment Report'\n",
    "body =  f'Current total holdings: {current_value_only}{currency} ({change_prior_week}% to prior week)\\n\\\n",
    "   - Gain/Loss of {total_performance}{currency} ({change_purchase}%) to purchase value, which was {purchase_value_only}{currency}\\n\\\n",
    "   - All-time high of {max_value}{currency} on {max_value_date}\\n\\n'\n",
    "\n",
    "content = [body, overview_table, total_holdings_image_path, holdings_by_type_image_path, allocation_of_holdings_image_path]\n",
    "\n",
    "with yagmail.SMTP(send_from, app_password) as yag:\n",
    "    yag.send(send_to, subject, content)\n",
    "\n",
    "print('E-Mail Sent')\n",
    "\n",
    "# Measure by asset in text format\n",
    "# for ticker in crypto:\n",
    "#     latest = round(current_asset_value[ticker],2)\n",
    "#     if latest == 0:\n",
    "#         continue\n",
    "#     prior = round(prior_week_asset_value[ticker],2)\n",
    "#     change_prior_week = round((latest/prior*100)-100,2)\n",
    "#     purchase = round(current_purchase_value[ticker],2)\n",
    "#     performance = round((latest - purchase),2)\n",
    "#     change_to_purchase = round((latest/purchase*100)-100,2)\n",
    "#     all_time_high = round(max_asset_value[ticker],2)\n",
    "#     date = max_asset_date[ticker]\n",
    "\n",
    "#     body_2 = f'     t/o {ticker}: {latest}{currency} ({change_prior_week}% to prior week)\\n\\\n",
    "#        - Gain/Loss of {performance}{currency} ({change_to_purchase}%) to purchase value, which was {purchase}{currency}\\n\\\n",
    "#        - All-time high of {all_time_high}{currency} on {date}\\n\\n'"
   ]
  }
 ],
 "metadata": {
  "interpreter": {
   "hash": "53013848b6bc42921e579ba8d314a02cbb00b120e060617e057279d3034ed2e1"
  },
  "kernelspec": {
   "display_name": "Python 3.10.1 ('venv_crypto_tracker': venv)",
   "language": "python",
   "name": "python3"
  },
  "language_info": {
   "codemirror_mode": {
    "name": "ipython",
    "version": 3
   },
   "file_extension": ".py",
   "mimetype": "text/x-python",
   "name": "python",
   "nbconvert_exporter": "python",
   "pygments_lexer": "ipython3",
   "version": "3.10.1"
  },
  "orig_nbformat": 4
 },
 "nbformat": 4,
 "nbformat_minor": 2
}
